{
 "cells": [
  {
   "cell_type": "code",
   "execution_count": 7,
   "id": "blond-subcommittee",
   "metadata": {},
   "outputs": [],
   "source": [
    "import math\n",
    "\n",
    "from matplotlib import pyplot as plt"
   ]
  },
  {
   "cell_type": "code",
   "execution_count": 23,
   "id": "about-exhaust",
   "metadata": {},
   "outputs": [],
   "source": [
    "def normal_cdf(z, mu=0, sigma=1):\n",
    "    return (1 + math.erf((z - mu) / math.sqrt(2) / sigma)) / 2"
   ]
  },
  {
   "cell_type": "code",
   "execution_count": 24,
   "id": "documented-savannah",
   "metadata": {},
   "outputs": [
    {
     "name": "stdout",
     "output_type": "stream",
     "text": [
      "0.8413447460685428\n",
      "0.15865525393145713\n",
      "0.022750131948179153\n",
      "0.0013498980316301035\n"
     ]
    }
   ],
   "source": [
    "print(normal_cdf(1))\n",
    "print(normal_cdf(-1))\n",
    "print(normal_cdf(-2))\n",
    "print(normal_cdf(-3))"
   ]
  },
  {
   "cell_type": "code",
   "execution_count": 47,
   "id": "detailed-yukon",
   "metadata": {},
   "outputs": [
    {
     "data": {
      "image/png": "[encoded data removed]",
      "text/plain": [
       "<Figure size 432x288 with 1 Axes>"
      ]
     },
     "metadata": {
      "needs_background": "light"
     },
     "output_type": "display_data"
    }
   ],
   "source": [
    "xs = [x / 10.0 for x in range(-50, 50)]\n",
    "plt.plot(xs, [normal_cdf(x, sigma=1) for x in xs], '-', label='mu=0,sigma=1')\n",
    "plt.plot(xs, [normal_cdf(x, sigma=2) for x in xs], '--', label='mu=0,sigma=2')\n",
    "plt.show()"
   ]
  },
  {
   "cell_type": "code",
   "execution_count": 34,
   "id": "studied-venezuela",
   "metadata": {},
   "outputs": [],
   "source": [
    "def inverse_normal_cdf(p, mu=0, sigma=1, tolerance=0.00001):\n",
    "    \"\"\" Find approx inverse using binary search \"\"\"\n",
    "    # if not standard, compute standard and rescale\n",
    "    if mu != 0 or sigma != 1:\n",
    "        return mu + sigma * inverse_normal_cdf(p, tolerance=tolerance)\n",
    "    \n",
    "    low_z, low_p = -10.0, 0\n",
    "    hi_z, hi_p = 10, 0\n",
    "    \n",
    "    while hi_z - low_z > tolerance:\n",
    "        mid_z = (low_z + hi_z) / 2\n",
    "        mid_p = normal_cdf(mid_z)\n",
    "        \n",
    "        if mid_p < p:\n",
    "            # midpoint too low, search above it\n",
    "            low_z, low_p = mid_z, mid_p\n",
    "        elif mid_p > p:\n",
    "            # midpoint too high, search below it\n",
    "            hi_z, hi_p = mid_z, mid_p\n",
    "        else:\n",
    "            break\n",
    "    return mid_z"
   ]
  },
  {
   "cell_type": "code",
   "execution_count": 44,
   "id": "stainless-burden",
   "metadata": {},
   "outputs": [
    {
     "name": "stdout",
     "output_type": "stream",
     "text": [
      "0.9998226165771484\n",
      "-1.000223159790039\n",
      "-1.9999980926513672\n",
      "-3.0022335052490234\n",
      "1.000223159790039\n",
      "1.9999980926513672\n",
      "3.0022335052490234\n"
     ]
    }
   ],
   "source": [
    "print(inverse_normal_cdf(0.8413)) # find +1 sigma\n",
    "\n",
    "print(inverse_normal_cdf(0.1586))\n",
    "print(inverse_normal_cdf(0.02275))\n",
    "print(inverse_normal_cdf(0.00134))\n",
    "\n",
    "print(inverse_normal_cdf(1 - 0.1586))\n",
    "print(inverse_normal_cdf(1 - 0.02275))\n",
    "print(inverse_normal_cdf(1- 0.00134))"
   ]
  },
  {
   "cell_type": "code",
   "execution_count": 36,
   "id": "alleged-brown",
   "metadata": {},
   "outputs": [],
   "source": [
    "def normal_approximation_to_binomial(n, p):\n",
    "    \"\"\" finds mu and sigma corresponding to a Binomial(n, p)\"\"\"\n",
    "    mu = n * p\n",
    "    sigma = math.sqrt(p * (1 - p) * n)\n",
    "    return mu, sigma "
   ]
  },
  {
   "cell_type": "code",
   "execution_count": 37,
   "id": "piano-packet",
   "metadata": {},
   "outputs": [],
   "source": [
    "# the normal cds is the probability that the variable is below a threshold\n",
    "normal_probability_below = normal_cdf\n",
    "\n",
    "# it's above the threshold if it's not below the threashold\n",
    "def normal_probability_above(lo, mu=0, sigma=1):\n",
    "    return 1 - normal_cdf(lo, mu, sigma)\n",
    "\n",
    "# it's between if it's less than hi, more than lo\n",
    "def normal_probability_between(lo, hi, mu=0, sigma=1):\n",
    "    return normal_cdf(hi, mu, sigma) - normal_cdf(lo, mu, sigma)\n",
    "\n",
    "# it's outside if it's not in between\n",
    "def normal_probability_outside(lo, hi, mu=0, sigma=1):\n",
    "    return 1 - normal_cdf(hi, mu, sigma) - normal_cdf(lo, mu, sigma)"
   ]
  },
  {
   "cell_type": "code",
   "execution_count": 63,
   "id": "broken-marijuana",
   "metadata": {},
   "outputs": [],
   "source": [
    "def normal_upper_bound(probability, mu=0, sigma=1):\n",
    "    \"\"\" z for which P(Z <= z) = probability\"\"\"\n",
    "    return inverse_normal_cdf(probability, mu, sigma)\n",
    "\n",
    "def normal_lower_bound(probability, mu=0, sigma=1):\n",
    "    \"\"\" z for which P(Z >= z) = probability\"\"\"\n",
    "    return inverse_normal_cdf(1 - probability, mu, sigma)\n",
    "\n",
    "def normal_two_sided_bounds(probability, mu=0, sigma=1):\n",
    "    \"\"\" returns the symmetric (about the mean) bounds\n",
    "    that contain probability\"\"\"\n",
    "    tail_probability = (1 - probability) / 2\n",
    "    # upper bound should have tail_probability above it\n",
    "    upper_bound = normal_lower_bound(tail_probability, mu, sigma)\n",
    "    \n",
    "    # lower  bound should have tail_probability below it\n",
    "    lower_bound = normal_upper_bound(tail_probability, mu, sigma)\n",
    "    \n",
    "    return lower_bound, upper_bound"
   ]
  },
  {
   "cell_type": "markdown",
   "id": "american-fifty",
   "metadata": {},
   "source": [
    "## Significance testing\n",
    "\n",
    "We will consider testing a coin for fairness\n",
    "\n",
    "H_0: the coin is fair (p = 0.5)\n",
    "\n",
    "Our test will flip the coin n times and count the number of heads X. \n",
    "Each flip is a Bernoulli trial, which means X (n flips) is a Binomial(n, p)"
   ]
  },
  {
   "cell_type": "code",
   "execution_count": 64,
   "id": "failing-parish",
   "metadata": {},
   "outputs": [
    {
     "name": "stdout",
     "output_type": "stream",
     "text": [
      "500.0 15.811388300841896\n"
     ]
    }
   ],
   "source": [
    "# We choose to flip the coin 1000 times\n",
    "\n",
    "mu_0, sigma_0 = normal_approximation_to_binomial(1000, 0.5)\n",
    "print(mu_0, sigma_0)"
   ]
  },
  {
   "cell_type": "markdown",
   "id": "alpine-celtic",
   "metadata": {},
   "source": [
    "### Decision about significance\n",
    "\n",
    "Significance - How willing we are to make a type I error (\"false positive\") in which we reject H_0 even though it's true\n",
    "\n",
    "Let's choose 5% as our wilingness to make a type I error\n",
    "\n",
    "Consider the test that rejects H_0 if X fallse outside the bounds given by:"
   ]
  },
  {
   "cell_type": "code",
   "execution_count": 65,
   "id": "earned-essence",
   "metadata": {},
   "outputs": [
    {
     "data": {
      "text/plain": [
       "(469.01026640487555, 530.9897335951244)"
      ]
     },
     "execution_count": 65,
     "metadata": {},
     "output_type": "execute_result"
    }
   ],
   "source": [
    "normal_two_sided_bounds(0.95, mu_0, sigma_0)"
   ]
  },
  {
   "cell_type": "markdown",
   "id": "falling-suicide",
   "metadata": {},
   "source": [
    "Assuming p really is 0.5 (H_0 is true) there is just a 5% chance we observe an X that lies outside this (469, 531) interval.\n",
    "\n",
    "### Test power\n",
    "\n",
    "Power is the probability of not making a type 2 error (a false negative), in which we fail to reject H_0 even if it's false.\n",
    "\n",
    "We have to specify what exactly H_0 being false means for our test. Let's check what happens if p is really 0.55"
   ]
  },
  {
   "cell_type": "code",
   "execution_count": 66,
   "id": "amber-replacement",
   "metadata": {},
   "outputs": [
    {
     "name": "stdout",
     "output_type": "stream",
     "text": [
      "469.01026640487555 530.9897335951244\n",
      "550.0 15.732132722552274\n",
      "0.11345199870463285\n"
     ]
    },
    {
     "data": {
      "text/plain": [
       "0.8865480012953671"
      ]
     },
     "execution_count": 66,
     "metadata": {},
     "output_type": "execute_result"
    }
   ],
   "source": [
    "# 95% bounds based on assumption p is 0.55\n",
    "\n",
    "lo, hi = normal_two_sided_bounds(0.95, mu_0, sigma_0)\n",
    "print(lo, hi)\n",
    "\n",
    "# actual mu and sigma based on p = 0.55\n",
    "mu_1, sigma_1 = normal_approximation_to_binomial(1000, 0.55)\n",
    "print(mu_1, sigma_1)\n",
    "\n",
    "# a type 2 error means we fail to reject the null hypothesys\n",
    "# which will happen when X is still in our original interval\n",
    "type_2_probability = normal_probability_between(lo, hi, mu_1, sigma_1)\n",
    "print(type_2_probability)\n",
    "\n",
    "power = 1 - type_2_probability\n",
    "power"
   ]
  },
  {
   "cell_type": "markdown",
   "id": "olive-excerpt",
   "metadata": {},
   "source": [
    "## Confidence intervals\n",
    "\n",
    "A third approach is to construct a confidence interval around the observed value of the parameter - in our problem, the p(heads) of the coin under test.\n",
    "\n",
    "We can construct the confidence interval by modelling p as a normal distribution with average mu and dev sigma:"
   ]
  },
  {
   "cell_type": "code",
   "execution_count": 67,
   "id": "colored-water",
   "metadata": {},
   "outputs": [
    {
     "name": "stdout",
     "output_type": "stream",
     "text": [
      "0.525 0.015791611697353755\n"
     ]
    }
   ],
   "source": [
    "# We observed 525 heads in 1000 flips\n",
    "p_hat = 525 / 1000 # observed value of p\n",
    "mu = p_hat\n",
    "sigma = math.sqrt(p_hat * (1 - p_hat) / 1000)\n",
    "print(mu, sigma)"
   ]
  },
  {
   "cell_type": "code",
   "execution_count": 68,
   "id": "deadly-block",
   "metadata": {},
   "outputs": [
    {
     "data": {
      "text/plain": [
       "(0.4940490278129096, 0.5559509721870904)"
      ]
     },
     "execution_count": 68,
     "metadata": {},
     "output_type": "execute_result"
    }
   ],
   "source": [
    "# the interval\n",
    "\n",
    "normal_two_sided_bounds(0.95, mu, sigma)"
   ]
  },
  {
   "cell_type": "markdown",
   "id": "falling-contractor",
   "metadata": {},
   "source": [
    "p=0.5 lies within the interval, so we should not reject H_0"
   ]
  },
  {
   "cell_type": "code",
   "execution_count": 69,
   "id": "qualified-shelter",
   "metadata": {},
   "outputs": [
    {
     "name": "stdout",
     "output_type": "stream",
     "text": [
      "0.54 0.015760710643876435\n"
     ]
    },
    {
     "data": {
      "text/plain": [
       "(0.5091095927295919, 0.5708904072704082)"
      ]
     },
     "execution_count": 69,
     "metadata": {},
     "output_type": "execute_result"
    }
   ],
   "source": [
    "# We observed 525 heads in 1000 flips\n",
    "p_hat = 540 / 1000 # observed value of p\n",
    "mu = p_hat\n",
    "sigma = math.sqrt(p_hat * (1 - p_hat) / 1000)\n",
    "print(mu, sigma)\n",
    "\n",
    "normal_two_sided_bounds(0.95, mu, sigma)"
   ]
  },
  {
   "cell_type": "markdown",
   "id": "adopted-macintosh",
   "metadata": {},
   "source": [
    "p=0.5 lies outside the interval, so we should reject H_0\n",
    "\n",
    "## P-hacking\n",
    "\n",
    "A procedure that erroneusly rejects the null hypothesis 5% percent of the time will - by definition - 5% of the time erroneously reject the null hypothesis:"
   ]
  },
  {
   "cell_type": "code",
   "execution_count": 82,
   "id": "valid-studio",
   "metadata": {},
   "outputs": [
    {
     "data": {
      "text/plain": [
       "46"
      ]
     },
     "execution_count": 82,
     "metadata": {},
     "output_type": "execute_result"
    }
   ],
   "source": [
    "import random\n",
    "\n",
    "\n",
    "def run_experiment():\n",
    "    \"\"\" flip a fair coin 1000 times, True=heads \"\"\"\n",
    "    return [random.random() < 0.5 for _ in range(1000)]\n",
    "\n",
    "def reject_fairness(experiment):\n",
    "    \"\"\"using the 5% significance levels 469, 531 \"\"\"\n",
    "    num_heads = len([flip for flip in experiment if flip])\n",
    "    return num_heads < 469 or num_heads > 531\n",
    "\n",
    "random.seed(0) # repeatability between runs\n",
    "\n",
    "experiments = [run_experiment() for _ in range(1000)]\n",
    "\n",
    "num_rejections = len([experiment for experiment in experiments if reject_fairness(experiment)])\n",
    "num_rejections"
   ]
  },
  {
   "cell_type": "markdown",
   "id": "unable-lemon",
   "metadata": {},
   "source": [
    "## Bayesian Inference\n",
    "\n",
    "    "
   ]
  },
  {
   "cell_type": "code",
   "execution_count": 93,
   "id": "nasty-sweet",
   "metadata": {},
   "outputs": [],
   "source": [
    "def B(alpha, beta):\n",
    "    return math.gamma(alpha) * math.gamma(beta) / math.gamma(alpha + beta)\n",
    "    \n",
    "def beta_pdf(x, alpha, beta):\n",
    "    if x < 0 or x > 1:\n",
    "        return 0\n",
    "    return (x ** (alpha - 1)) * ((1 - x) ** (beta - 1)) / B(alpha, beta)"
   ]
  },
  {
   "cell_type": "code",
   "execution_count": 97,
   "id": "subjective-shopper",
   "metadata": {},
   "outputs": [
    {
     "data": {
      "image/png": "[encoded data removed]",
      "text/plain": [
       "<Figure size 432x288 with 1 Axes>"
      ]
     },
     "metadata": {
      "needs_background": "light"
     },
     "output_type": "display_data"
    }
   ],
   "source": [
    "import numpy as np\n",
    "\n",
    "def visualize_distribution(curried_distribution_functions, xmin=0.0, xmax=1.0):\n",
    "    xs = np.linspace(xmin, xmax, 100, endpoint=True)\n",
    "    signs = ['-', '--', ':', '-']\n",
    "    for ix, dfunc in enumerate(curried_distribution_functions):\n",
    "        plt.plot(xs, [dfunc(x) for x in xs], signs[ix])\n",
    "    plt.show()\n",
    "\n",
    "\n",
    "visualize_distribution([\n",
    "    lambda x: beta_pdf(x, 1, 1),\n",
    "    lambda x: beta_pdf(x, 10, 10),\n",
    "    lambda x: beta_pdf(x, 4, 16),\n",
    "])"
   ]
  },
  {
   "cell_type": "code",
   "execution_count": 98,
   "id": "under-navigation",
   "metadata": {},
   "outputs": [],
   "source": [
    "def get_posterior_after_flips(alpha, beta, flips, heads):\n",
    "    return alpha + heads, beta + flips - heads"
   ]
  },
  {
   "cell_type": "markdown",
   "id": "difficult-directive",
   "metadata": {},
   "source": [
    "### FIrst experiment, starting with uniform prior\n",
    "\n",
    "Prior is beta(1, 1), horizontal line, approx uniform\n",
    "\n",
    "Every time we flip 10 times, we get 3 heads."
   ]
  },
  {
   "cell_type": "code",
   "execution_count": 118,
   "id": "written-broadcasting",
   "metadata": {},
   "outputs": [
    {
     "data": {
      "image/png": "[encoded data removed]",
      "text/plain": [
       "<Figure size 432x288 with 1 Axes>"
      ]
     },
     "metadata": {
      "needs_background": "light"
     },
     "output_type": "display_data"
    }
   ],
   "source": [
    "alpha_0, beta_0 = 1, 1\n",
    "distributions = [(alpha_0, beta_0)]\n",
    "\n",
    "# after 10 flips\n",
    "alpha_1, beta_1 = get_posterior_after_flips(alpha_0, beta_0, 10, 3)\n",
    "distributions.append((alpha_1, beta_1))\n",
    "\n",
    "# after 10 more flips\n",
    "alpha_2, beta_2 = get_posterior_after_flips(alpha_1, beta_1, 10, 3)\n",
    "distributions.append((alpha_2, beta_2))\n",
    "\n",
    "# after 10 more flips\n",
    "alpha_3, beta_3 = get_posterior_after_flips(alpha_2, beta_2, 10, 3)\n",
    "distributions.append((alpha_3, beta_3))\n",
    "\n",
    "# Visualize\n",
    "curried_funcs = [(lambda x, a=a, b=b: beta_pdf(x, a, b)) for a, b in distributions]\n",
    "\n",
    "visualize_distribution(curried_funcs)"
   ]
  },
  {
   "cell_type": "markdown",
   "id": "boring-better",
   "metadata": {},
   "source": [
    "### Second experiment, starting with Beta(20, 20)\n",
    "\n",
    "Prior centers around 0.5\n",
    "\n",
    "Every time we flip 10 times, we get 3 heads."
   ]
  },
  {
   "cell_type": "code",
   "execution_count": 119,
   "id": "apparent-appreciation",
   "metadata": {},
   "outputs": [
    {
     "data": {
      "image/png": "[encoded data removed]",
      "text/plain": [
       "<Figure size 432x288 with 1 Axes>"
      ]
     },
     "metadata": {
      "needs_background": "light"
     },
     "output_type": "display_data"
    }
   ],
   "source": [
    "alpha_0, beta_0 = 20, 20\n",
    "distributions = [(alpha_0, beta_0)]\n",
    "\n",
    "# after 10 flips\n",
    "alpha_1, beta_1 = get_posterior_after_flips(alpha_0, beta_0, 10, 3)\n",
    "distributions.append((alpha_1, beta_1))\n",
    "\n",
    "# after 10 more flips\n",
    "alpha_2, beta_2 = get_posterior_after_flips(alpha_1, beta_1, 10, 3)\n",
    "distributions.append((alpha_2, beta_2))\n",
    "\n",
    "# after 10 more flips\n",
    "alpha_3, beta_3 = get_posterior_after_flips(alpha_2, beta_2, 10, 3)\n",
    "distributions.append((alpha_3, beta_3))\n",
    "\n",
    "# Visualize\n",
    "curried_funcs = [(lambda x, a=a, b=b: beta_pdf(x, a, b)) for a, b in distributions]\n",
    "\n",
    "visualize_distribution(curried_funcs)"
   ]
  },
  {
   "cell_type": "code",
   "execution_count": null,
   "id": "opening-shelter",
   "metadata": {},
   "outputs": [],
   "source": [
    "### Second experiment, starting with Beta(55, 45)\n",
    "\n",
    "Prior centers around 0.55\n",
    "\n",
    "Every time we flip 10 times, we get 3 heads."
   ]
  },
  {
   "cell_type": "code",
   "execution_count": 120,
   "id": "sought-macintosh",
   "metadata": {},
   "outputs": [
    {
     "data": {
      "image/png": "[encoded data removed]",
      "text/plain": [
       "<Figure size 432x288 with 1 Axes>"
      ]
     },
     "metadata": {
      "needs_background": "light"
     },
     "output_type": "display_data"
    }
   ],
   "source": [
    "alpha_0, beta_0 = 55, 45\n",
    "distributions = [(alpha_0, beta_0)]\n",
    "\n",
    "# after 10 flips\n",
    "alpha_1, beta_1 = get_posterior_after_flips(alpha_0, beta_0, 10, 3)\n",
    "distributions.append((alpha_1, beta_1))\n",
    "\n",
    "# after 10 more flips\n",
    "alpha_2, beta_2 = get_posterior_after_flips(alpha_1, beta_1, 10, 3)\n",
    "distributions.append((alpha_2, beta_2))\n",
    "\n",
    "# after 10 more flips\n",
    "alpha_3, beta_3 = get_posterior_after_flips(alpha_2, beta_2, 10, 3)\n",
    "distributions.append((alpha_3, beta_3))\n",
    "\n",
    "# Visualize\n",
    "curried_funcs = [(lambda x, a=a, b=b: beta_pdf(x, a, b)) for a, b in distributions]\n",
    "\n",
    "visualize_distribution(curried_funcs)"
   ]
  },
  {
   "cell_type": "code",
   "execution_count": null,
   "id": "dynamic-brick",
   "metadata": {},
   "outputs": [],
   "source": []
  }
 ],
 "metadata": {
  "kernelspec": {
   "display_name": "Python 3",
   "language": "python",
   "name": "python3"
  },
  "language_info": {
   "codemirror_mode": {
    "name": "ipython",
    "version": 3
   },
   "file_extension": ".py",
   "mimetype": "text/x-python",
   "name": "python",
   "nbconvert_exporter": "python",
   "pygments_lexer": "ipython3",
   "version": "3.9.0"
  }
 },
 "nbformat": 4,
 "nbformat_minor": 5
}
