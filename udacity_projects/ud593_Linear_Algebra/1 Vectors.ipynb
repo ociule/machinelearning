{
 "cells": [
  {
   "cell_type": "code",
   "execution_count": 145,
   "metadata": {
    "collapsed": false
   },
   "outputs": [],
   "source": [
    "import math\n",
    "\n",
    "class Vector:\n",
    "    def __init__(self, coordinates):\n",
    "        self.coordinates = coordinates\n",
    "        \n",
    "    def __str__(self):\n",
    "        return \"Vector: {}\".format(self.coordinates)\n",
    "    \n",
    "    def magnitude(self):\n",
    "        return math.sqrt( sum( [x ** 2 for x in self.coordinates] ) )\n",
    "    \n",
    "    def direction(self):\n",
    "        magnitude = self.magnitude()\n",
    "        return tuple( x / magnitude for x in self.coordinates )\n",
    "    \n",
    "    def minus(self, v2):\n",
    "        assert len( self.coordinates) == len( v2.coordinates )\n",
    "        return Vector( tuple(coord - v2.coordinates[ix] for ix, coord in enumerate(self.coordinates) ))\n",
    "    \n",
    "    def dot_product( self, v2 ):\n",
    "        assert len( self.coordinates) == len( v2.coordinates )\n",
    "        s = 0\n",
    "        for ix, coord in enumerate(self.coordinates):\n",
    "            s += coord * v2.coordinates[ix]\n",
    "        return s\n",
    "    \n",
    "    def angle( self, v2 ):\n",
    "        dot = self.dot_product( v2 )\n",
    "        cos_theta = dot / ( self.magnitude() * v2.magnitude() )\n",
    "        return math.acos( cos_theta )\n",
    "    \n",
    "    def scalar_multiply(self, scalar):\n",
    "        return Vector( tuple((scalar * c for c in self.coordinates)) )\n",
    "    \n",
    "    def parallel( self, v2 ):\n",
    "        return ( self.direction() == v2.direction() or \n",
    "               self.direction() == -1 * v2.direction() )\n",
    "\n",
    "    def orthogonal( self, v2 ):\n",
    "        dot = self.dot_product( v2 )\n",
    "        return abs(dot) < 0.001\n",
    "    \n",
    "    def projection( self, b ):\n",
    "        magnitude = self.dot_product( b ) / b.magnitude()\n",
    "        return Vector( b.direction() ).scalar_multiply( magnitude )\n",
    "    \n",
    "    def projection_ortho( self, b ):\n",
    "        projection = self.projection( b )\n",
    "        return self.minus(projection)\n",
    "\n",
    "    def cross_product( self, b ):\n",
    "        c1, c2 = self.coordinates, b.coordinates\n",
    "        assert len(self.coordinates) == 3\n",
    "        assert len(b.coordinates) == 3\n",
    "        x = c1[1] * c2[2] - c1[2] * c2[1]\n",
    "        y = c1[2] * c2[0] - c1[0] * c2[2]\n",
    "        z = c1[0] * c2[1] - c1[1] * c2[0]\n",
    "        \n",
    "        return Vector( (x, y, z) )\n",
    "    "
   ]
  },
  {
   "cell_type": "code",
   "execution_count": 150,
   "metadata": {
    "collapsed": false
   },
   "outputs": [
    {
     "name": "stdout",
     "output_type": "stream",
     "text": [
      "Vector: (-11.204570999999994, -97.609444, -105.68516199999999)\n",
      "142.122221402\n",
      "42.5649373994\n"
     ]
    }
   ],
   "source": [
    "v, b = Vector( (8.462, 7.893, -8.187) ), Vector( (6.984, -5.975, 4.778) )\n",
    "print v.cross_product(b)\n",
    "\n",
    "v, b = Vector( (-8.987, -9.838, 5.031) ), Vector( (-4.268, -1.861, -8.866) )\n",
    "print v.cross_product(b).magnitude()\n",
    "\n",
    "v, b = Vector( (1.5, 9.547, 3.691) ), Vector( (-6.007, 0.124, 5.772) )\n",
    "print v.cross_product(b).magnitude() / 2"
   ]
  },
  {
   "cell_type": "code",
   "execution_count": 144,
   "metadata": {
    "collapsed": false
   },
   "outputs": [
    {
     "name": "stdout",
     "output_type": "stream",
     "text": [
      "Vector: (1.082606962484467, 2.6717427583253026)\n",
      "Vector: (-8.350081043195763, 3.376061254287721, -1.433746042781185)\n",
      "Vector: (1.9685161672140894, -2.810760748439356, 0.8480849633578502, 2.6798132332561577)\n",
      "Vector: (1.0404838327859105, -3.3612392515606437, 2.8439150366421497, -5.1898132332561575)\n"
     ]
    }
   ],
   "source": [
    "v, b = Vector( (3.039, 1.879) ), Vector( (0.825, 2.036) )\n",
    "print v.projection(b)\n",
    "\n",
    "v, b = Vector( (-9.88, -3.264, -8.159) ), Vector( (-2.155, -9.353, -9.473) )\n",
    "print v.projection_ortho(b)\n",
    "\n",
    "v, b = Vector( (3.009, -6.172, 3.692, -2.51) ), Vector( (6.404, -9.144, 2.759, 8.718) )\n",
    "print v.projection(b)\n",
    "print v.projection_ortho(b)"
   ]
  },
  {
   "cell_type": "code",
   "execution_count": 123,
   "metadata": {
    "collapsed": false
   },
   "outputs": [
    {
     "name": "stdout",
     "output_type": "stream",
     "text": [
      "False False\n",
      "(-0.6932074151971374, -0.7207381490636552)\n",
      "(0.6932074151971374, 0.7207381490636553)\n",
      "False False\n",
      "False True\n"
     ]
    }
   ],
   "source": [
    "v, w = Vector( (-7.579, -7.88) ), Vector( (22.737, 23.64) )\n",
    "print v.parallel(w), v.orthogonal(w)\n",
    "\n",
    "v, w = Vector( (-2.029, 9.97, 4.172) ), Vector( (-9.231, -6.639, -7.245) )\n",
    "print v.parallel(w), v.orthogonal(w)\n",
    "\n",
    "v, w = Vector( (-2.328, -7.284, -1.214) ), Vector( (-1.821, 1.072, -2.94) )\n",
    "print v.parallel(w), v.orthogonal(w)"
   ]
  },
  {
   "cell_type": "code",
   "execution_count": 95,
   "metadata": {
    "collapsed": false
   },
   "outputs": [
    {
     "name": "stdout",
     "output_type": "stream",
     "text": [
      "-41.382286\n",
      "56.397178\n",
      "3.07202630984\n",
      "1.0518448473\n",
      "60.2662704527\n"
     ]
    }
   ],
   "source": [
    "v, w = Vector( (7.887, 4.138) ), Vector( (-8.802, 6.776) )\n",
    "print v.dot_product(w)\n",
    "\n",
    "v, w = Vector( (-5.955, -4.904, -1.874) ), Vector( (-4.496, -8.755, 7.103) )\n",
    "print v.dot_product(w)\n",
    "\n",
    "v, w = Vector( (3.183, -7.627) ), Vector( (-2.668, 5.319) )\n",
    "print v.angle(w)\n",
    "\n",
    "v, w = Vector( (7.35, 0.221, 5.198) ), Vector( (2.751, 8.259, 3.985) )\n",
    "print v.angle(w)\n",
    "print v.angle(w) / math.pi * 180."
   ]
  },
  {
   "cell_type": "code",
   "execution_count": 55,
   "metadata": {
    "collapsed": false
   },
   "outputs": [
    {
     "name": "stdout",
     "output_type": "stream",
     "text": [
      "7.44028292473\n",
      "[0.048841, 55.308969000000005]\n",
      "55.35781\n"
     ]
    }
   ],
   "source": [
    "v1 = Vector( (-0.221, 7.437) )\n",
    "print v1.magnitude()"
   ]
  },
  {
   "cell_type": "code",
   "execution_count": 71,
   "metadata": {
    "collapsed": false
   },
   "outputs": [
    {
     "name": "stdout",
     "output_type": "stream",
     "text": [
      "(0.9339352140866403, -0.35744232526233)\n",
      "0.934 -0.357\n"
     ]
    }
   ],
   "source": [
    "v2 = Vector( (5.581, -2.136) )\n",
    "print v2.direction()\n",
    "print round(0.9339, 3), round( -0.35744, 3)"
   ]
  },
  {
   "cell_type": "code",
   "execution_count": 57,
   "metadata": {
    "collapsed": false
   },
   "outputs": [
    {
     "data": {
      "text/plain": [
       "10.884187567292289"
      ]
     },
     "execution_count": 57,
     "metadata": {},
     "output_type": "execute_result"
    }
   ],
   "source": [
    "v3 = Vector( (8.813, -1.331, -6.247) )\n",
    "v3.magnitude()"
   ]
  },
  {
   "cell_type": "code",
   "execution_count": 58,
   "metadata": {
    "collapsed": false
   },
   "outputs": [
    {
     "data": {
      "text/plain": [
       "(0.3404012959433014, 0.5300437012984873, -0.7766470449528028)"
      ]
     },
     "execution_count": 58,
     "metadata": {},
     "output_type": "execute_result"
    }
   ],
   "source": [
    "v4 = Vector( (1.996, 3.108, -4.554) )\n",
    "v4.direction()"
   ]
  },
  {
   "cell_type": "code",
   "execution_count": null,
   "metadata": {
    "collapsed": true
   },
   "outputs": [],
   "source": []
  }
 ],
 "metadata": {
  "kernelspec": {
   "display_name": "Python 2",
   "language": "python",
   "name": "python2"
  },
  "language_info": {
   "codemirror_mode": {
    "name": "ipython",
    "version": 2
   },
   "file_extension": ".py",
   "mimetype": "text/x-python",
   "name": "python",
   "nbconvert_exporter": "python",
   "pygments_lexer": "ipython2",
   "version": "2.7.12"
  }
 },
 "nbformat": 4,
 "nbformat_minor": 0
}
