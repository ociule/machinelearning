{
 "cells": [
  {
   "cell_type": "markdown",
   "metadata": {},
   "source": [
    "## Using Simulated Annealing to Solve Logic Puzzles\n",
    "\n",
    "http://blog.pluszero.ca/blog/2016/07/17/using-simulated-annealing-to-solve-logic-puzzles/\n",
    "\n",
    "We have the following information:\n",
    "\n",
    "1. Each house’s owner is of a different nationality, either Dane, Brit, Swede, Norwegian, or German.\n",
    "2. The interior walls of each house are coloured differently, either yellow, red, white, green, or blue.\n",
    "3. Each house contains a different animal, either horse, cat, bird, fish, or dog.\n",
    "4. The owner of each house drinks a different beverage, either water, tea, milk, coffee, or root beer.\n",
    "5. The owner of each house smokes a different kind of cigar, either Pall Mall, Prince, Blue Master, Dunhill, or Blends.\n",
    "\n",
    "Furthermore, we have the following 15 clues:\n",
    "\n",
    "1. The Brit lives in the house with red walls.\n",
    "2. The Swede has a dog.\n",
    "3. The Dane drinks tea.\n",
    "4. The house with green walls is directly to the left of the house with white walls.\n",
    "5. The owner of the house with green walls drinks coffee.\n",
    "5. The person who smokes Pall Mall cigars owns a bird.\n",
    "6. The owner of the house with yellow walls smokes Dunhill.\n",
    "7. The man living in the center house drinks milk.\n",
    "8. The Norwegian lives in the first house.\n",
    "9. The man who smokes blends lives next to the cat owner.\n",
    "10. The horse’s owner lives next to the man who smokes Dunhill.\n",
    "11. The man who smokes Blue Master drinks root beer.\n",
    "12. The German smokes Prince.\n",
    "13. The Norwegian lives next to the house with blue walls.\n",
    "14. The man who smokes Blends lives next to the man who drinks water.\n",
    "15. Using nothing but this information, it is possible to figure out who has the fish.\n",
    "\n",
    "Don’t read ahead yet if you want to figure this out on your own first."
   ]
  },
  {
   "cell_type": "code",
   "execution_count": 4,
   "metadata": {
    "collapsed": false
   },
   "outputs": [
    {
     "data": {
      "text/plain": [
       "[['dane', 'yellow', 'horse', 'water', 'pall mall'],\n",
       " ['brit', 'red', 'cat', 'tea', 'prince'],\n",
       " ['swede', 'white', 'bird', 'milk', 'blue master'],\n",
       " ['norwegian', 'green', 'fish', 'coffee', 'dunhill'],\n",
       " ['german', 'blue', 'dog', 'root beer', 'blends']]"
      ]
     },
     "execution_count": 4,
     "metadata": {},
     "output_type": "execute_result"
    }
   ],
   "source": [
    "nationalities = [ 'dane',      'brit',   'swede',       'norwegian', 'german'    ]\n",
    "colours       = [ 'yellow',    'red',    'white',       'green',     'blue'      ]\n",
    "animals       = [ 'horse',     'cat',    'bird',        'fish',      'dog'       ]\n",
    "beverages     = [ 'water',     'tea',    'milk',        'coffee',    'root beer' ]\n",
    "cigars        = [ 'pall mall', 'prince', 'blue master', 'dunhill',   'blends'    ]\n",
    "\n",
    "attributes = [nationalities, colours, animals, beverages, cigars]\n",
    "\n",
    "NUM_HOUSES = 5\n",
    "initial = []\n",
    "\n",
    "for i in xrange(NUM_HOUSES):\n",
    "    initial.append([attr[i] for attr in attributes])\n",
    "    \n",
    "initial"
   ]
  },
  {
   "cell_type": "code",
   "execution_count": 5,
   "metadata": {
    "collapsed": true
   },
   "outputs": [],
   "source": [
    "NAT = 0 # Nationality index\n",
    "COL = 1 # Colour index\n",
    "ANI = 2 # Animal index\n",
    "BEV = 3 # Beverage index\n",
    "CIG = 4 # Cigar index"
   ]
  },
  {
   "cell_type": "code",
   "execution_count": 6,
   "metadata": {
    "collapsed": true
   },
   "outputs": [],
   "source": [
    "def cost_of_state(state):\n",
    "    cost = 15\n",
    "    for i, h in enumerate(state):\n",
    "        cost -= sum([\n",
    "            h[NAT] == 'brit' and h[COL] == 'red',\n",
    "            h[NAT] == 'swede' and h[ANI] == 'dog',\n",
    "            h[NAT] == 'dane' and h[BEV] == 'tea',\n",
    "            i < 4 and h[COL] == 'green' and state[i+1][COL] == 'white',\n",
    "            h[COL] == 'green' and h[BEV] == 'coffee',\n",
    "            h[CIG] == 'pall mall' and h[ANI] == 'bird',\n",
    "            h[COL] == 'yellow' and h[CIG] == 'dunhill',\n",
    "            i == 2 and h[BEV] == 'milk',\n",
    "            i == 0 and h[NAT] == 'norwegian',\n",
    "            h[CIG] == 'blends' and ((i > 0 and state[i-1][ANI] == 'cat')\n",
    "                                 or (i < 4 and state[i+1][ANI] == 'cat')),\n",
    "            h[ANI] == 'horse' and ((i > 0 and state[i-1][CIG] == 'dunhill')\n",
    "                                 or (i < 4 and state[i+1][CIG] == 'dunhill')),\n",
    "            h[CIG] == 'blue master' and h[BEV] == 'root beer',\n",
    "            h[NAT] == 'german' and h[CIG] == 'prince',\n",
    "            h[NAT] == 'norwegian' and ((i > 0 and state[i-1][COL] == 'blue')\n",
    "                                    or (i < 4 and state[i+1][COL] == 'blue')),\n",
    "            h[CIG] == 'blends' and ((i > 0 and state[i-1][BEV] == 'water')\n",
    "                                 or (i < 4 and state[i+1][BEV] == 'water')),\n",
    "        ])\n",
    "\n",
    "    return cost"
   ]
  },
  {
   "cell_type": "code",
   "execution_count": 7,
   "metadata": {
    "collapsed": false
   },
   "outputs": [
    {
     "data": {
      "text/plain": [
       "11"
      ]
     },
     "execution_count": 7,
     "metadata": {},
     "output_type": "execute_result"
    }
   ],
   "source": [
    "cost_of_state(initial)"
   ]
  },
  {
   "cell_type": "code",
   "execution_count": 8,
   "metadata": {
    "collapsed": false
   },
   "outputs": [],
   "source": [
    "from copy import deepcopy, copy\n",
    "\n",
    "s = deepcopy(initial)"
   ]
  },
  {
   "cell_type": "code",
   "execution_count": 9,
   "metadata": {
    "collapsed": true
   },
   "outputs": [],
   "source": [
    "s[0][BEV], s[1][BEV] = s[1][BEV], s[0][BEV]"
   ]
  },
  {
   "cell_type": "code",
   "execution_count": 10,
   "metadata": {
    "collapsed": false
   },
   "outputs": [
    {
     "name": "stdout",
     "output_type": "stream",
     "text": [
      "10\n"
     ]
    }
   ],
   "source": [
    "print cost_of_state(s)"
   ]
  },
  {
   "cell_type": "code",
   "execution_count": 11,
   "metadata": {
    "collapsed": false
   },
   "outputs": [],
   "source": [
    "import math\n",
    "import random\n",
    "\n",
    "def get_random_neighbour(state):\n",
    "    neighbour = [house[:] for house in state] # Deep copy\n",
    "\n",
    "    i = random.randint(0, 4)\n",
    "    j = random.choice(range(0, i) + range(i+1, 4))\n",
    "    attr_idx = random.randint(0, 4)\n",
    "\n",
    "    neighbour[i][attr_idx], neighbour[j][attr_idx] = \\\n",
    "        neighbour[j][attr_idx], neighbour[i][attr_idx]\n",
    "\n",
    "    return neighbour"
   ]
  },
  {
   "cell_type": "code",
   "execution_count": 12,
   "metadata": {
    "collapsed": false
   },
   "outputs": [],
   "source": [
    "s2 = get_random_neighbour(s)"
   ]
  },
  {
   "cell_type": "code",
   "execution_count": 13,
   "metadata": {
    "collapsed": false
   },
   "outputs": [
    {
     "data": {
      "text/plain": [
       "12"
      ]
     },
     "execution_count": 13,
     "metadata": {},
     "output_type": "execute_result"
    }
   ],
   "source": [
    "cost_of_state(s2)"
   ]
  },
  {
   "cell_type": "code",
   "execution_count": 17,
   "metadata": {
    "collapsed": false
   },
   "outputs": [
    {
     "data": {
      "text/plain": [
       "12"
      ]
     },
     "execution_count": 17,
     "metadata": {},
     "output_type": "execute_result"
    }
   ],
   "source": [
    "cost_of_state(get_random_neighbour(initial))"
   ]
  },
  {
   "cell_type": "code",
   "execution_count": 18,
   "metadata": {
    "collapsed": false
   },
   "outputs": [],
   "source": [
    "\n",
    "N = 1000\n",
    "\n",
    "def compute_next_cost_distrib(state):\n",
    "    costs = []\n",
    "    for x in range(N):\n",
    "        cost = cost_of_state(get_random_neighbour(state))\n",
    "        costs.append(cost)\n",
    "    return costs\n"
   ]
  },
  {
   "cell_type": "code",
   "execution_count": 19,
   "metadata": {
    "collapsed": false
   },
   "outputs": [
    {
     "data": {
      "image/png": "[encoded data removed]",
      "text/plain": [
       "<matplotlib.figure.Figure at 0x102ee9750>"
      ]
     },
     "metadata": {},
     "output_type": "display_data"
    }
   ],
   "source": [
    "import matplotlib.pyplot as plt\n",
    "import numpy as np\n",
    "%matplotlib inline\n",
    "\n",
    "def plot_next_cost_distrib(state):\n",
    "    costs = compute_next_cost_distrib(state)\n",
    "    plt.hist(costs)\n",
    "    plt.show()\n",
    "plot_next_cost_distrib(initial)"
   ]
  },
  {
   "cell_type": "code",
   "execution_count": 20,
   "metadata": {
    "collapsed": false
   },
   "outputs": [],
   "source": [
    "current = copy(initial)"
   ]
  },
  {
   "cell_type": "code",
   "execution_count": 21,
   "metadata": {
    "collapsed": false
   },
   "outputs": [
    {
     "data": {
      "image/png": "[encoded data removed]",
      "text/plain": [
       "<matplotlib.figure.Figure at 0x101a3d0d0>"
      ]
     },
     "metadata": {},
     "output_type": "display_data"
    }
   ],
   "source": [
    "current = get_random_neighbour(current)\n",
    "plot_next_cost_distrib(current)"
   ]
  },
  {
   "cell_type": "code",
   "execution_count": 25,
   "metadata": {
    "collapsed": false
   },
   "outputs": [
    {
     "data": {
      "image/png": "[encoded data removed]",
      "text/plain": [
       "<matplotlib.figure.Figure at 0x105a63b50>"
      ]
     },
     "metadata": {},
     "output_type": "display_data"
    }
   ],
   "source": [
    "current = get_random_neighbour(current)\n",
    "plot_next_cost_distrib(current)"
   ]
  },
  {
   "cell_type": "code",
   "execution_count": 31,
   "metadata": {
    "collapsed": false
   },
   "outputs": [],
   "source": [
    "def sa(initial):\n",
    "    # Define initial values\n",
    "    current = initial\n",
    "    current_cost = cost_of_state(current)\n",
    "    temp = 1.0 # initial value of t used in acceptance probability\n",
    "    num_iterations = 0\n",
    "\n",
    "    while current_cost > 0: # keep going until we find the global minimum\n",
    "        neighbour = get_random_neighbour(current)\n",
    "        neighbour_cost = cost_of_state(neighbour)\n",
    "\n",
    "        cost_delta = neighbour_cost - current_cost\n",
    "\n",
    "        # If the neighbouring state is at least as good as the current state\n",
    "        # move to it, otherwise check the acceptance probability and only\n",
    "        # move if the random number is less than it\n",
    "        if cost_delta <= 0 or random.random() < math.exp(-cost_delta/temp):\n",
    "            current, current_cost = neighbour, neighbour_cost\n",
    "\n",
    "        num_iterations += 1\n",
    "\n",
    "        # Decrease the temperature by 0.10 every 500 iterations until it's at 0.10\n",
    "        if num_iterations % 300 == 0 and temp > 0.10:\n",
    "            temp -= 0.10\n",
    "\n",
    "    # We found the solution!\n",
    "    # Return it and the number of iterations it took to get there\n",
    "    return current, num_iterations"
   ]
  },
  {
   "cell_type": "code",
   "execution_count": 32,
   "metadata": {
    "collapsed": false
   },
   "outputs": [
    {
     "name": "stdout",
     "output_type": "stream",
     "text": [
      "['norwegian', 'yellow', 'cat', 'water', 'dunhill']\n",
      "['dane', 'blue', 'horse', 'tea', 'blends']\n",
      "['brit', 'red', 'bird', 'milk', 'pall mall']\n",
      "['german', 'green', 'fish', 'coffee', 'prince']\n",
      "['swede', 'white', 'dog', 'root beer', 'blue master']\n",
      "Number of iterations: 3472\n",
      "Cost of solution: 0\n"
     ]
    }
   ],
   "source": [
    "random.seed(100)\n",
    "\n",
    "solution, iterations = sa(initial)\n",
    "\n",
    "for house in solution:\n",
    "    print house\n",
    "\n",
    "print 'Number of iterations:', iterations\n",
    "print 'Cost of solution:', cost_of_state(solution)"
   ]
  },
  {
   "cell_type": "code",
   "execution_count": null,
   "metadata": {
    "collapsed": true
   },
   "outputs": [],
   "source": []
  }
 ],
 "metadata": {
  "kernelspec": {
   "display_name": "Python 2",
   "language": "python",
   "name": "python2"
  },
  "language_info": {
   "codemirror_mode": {
    "name": "ipython",
    "version": 2
   },
   "file_extension": ".py",
   "mimetype": "text/x-python",
   "name": "python",
   "nbconvert_exporter": "python",
   "pygments_lexer": "ipython2",
   "version": "2.7.11"
  }
 },
 "nbformat": 4,
 "nbformat_minor": 0
}
